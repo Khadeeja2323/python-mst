{
 "cells": [
  {
   "cell_type": "markdown",
   "id": "71bdd618",
   "metadata": {},
   "source": [
    "# Question1"
   ]
  },
  {
   "cell_type": "code",
   "execution_count": 9,
   "id": "4ef774ce",
   "metadata": {},
   "outputs": [
    {
     "name": "stdout",
     "output_type": "stream",
     "text": [
      "enter the name is ANISHA\n",
      "enter the roll number 21\n",
      "enter the mark 78\n",
      "name: ANISHA\n",
      "roll no: 21\n",
      "mark: 78\n"
     ]
    }
   ],
   "source": [
    "n=input('enter the name is ')\n",
    "r=input('enter the roll number ')\n",
    "m=input('enter the mark ')\n",
    "print('name:',n)\n",
    "print('roll no:',r)\n",
    "print('mark:',m)"
   ]
  },
  {
   "cell_type": "markdown",
   "id": "1c781bc2",
   "metadata": {},
   "source": [
    "# Question2"
   ]
  },
  {
   "cell_type": "code",
   "execution_count": 5,
   "id": "5ae0bd41",
   "metadata": {},
   "outputs": [
    {
     "name": "stdout",
     "output_type": "stream",
     "text": [
      "enter the temperature in fahrenheit 41\n",
      "Temperature in celcius= 5.0\n"
     ]
    }
   ],
   "source": [
    "f=int(input('enter the temperature in fahrenheit '))\n",
    "celcius=(f-32)*5/9\n",
    "print('Temperature in celcius=',celcius)"
   ]
  },
  {
   "cell_type": "markdown",
   "id": "54ecf34d",
   "metadata": {},
   "source": [
    "# Question3"
   ]
  },
  {
   "cell_type": "code",
   "execution_count": 6,
   "id": "4800850a",
   "metadata": {},
   "outputs": [
    {
     "name": "stdout",
     "output_type": "stream",
     "text": [
      "enter the first number 5\n",
      "enter the second number 4\n",
      "The product is 20\n"
     ]
    }
   ],
   "source": [
    "num1=int(input('enter the first number '))\n",
    "num2=int(input('enter the second number '))\n",
    "product=num1*num2\n",
    "print('The product is',product)"
   ]
  },
  {
   "cell_type": "markdown",
   "id": "b0190997",
   "metadata": {},
   "source": [
    "# Question4"
   ]
  },
  {
   "cell_type": "code",
   "execution_count": 4,
   "id": "263c6812",
   "metadata": {},
   "outputs": [
    {
     "name": "stdout",
     "output_type": "stream",
     "text": [
      "Enter the string Learn**python**by developing a**website**\n",
      "Learn**python**by developing a**website**\n"
     ]
    }
   ],
   "source": [
    "string=input('Enter the string ')\n",
    "print(string)"
   ]
  },
  {
   "cell_type": "markdown",
   "id": "ee8b693a",
   "metadata": {},
   "source": [
    "# Question5"
   ]
  },
  {
   "cell_type": "code",
   "execution_count": 8,
   "id": "68621cc5",
   "metadata": {},
   "outputs": [
    {
     "name": "stdout",
     "output_type": "stream",
     "text": [
      "Enter the radius of a circle 7\n",
      "The area of circle = 153.86\n"
     ]
    }
   ],
   "source": [
    "r=int(input('Enter the radius of a circle '))\n",
    "area=3.14*r*r\n",
    "print('The area of circle =',area)"
   ]
  },
  {
   "cell_type": "markdown",
   "id": "10ec9125",
   "metadata": {},
   "source": [
    "# Question6"
   ]
  },
  {
   "cell_type": "code",
   "execution_count": 1,
   "id": "b8a67bc3",
   "metadata": {},
   "outputs": [
    {
     "name": "stdout",
     "output_type": "stream",
     "text": [
      "[1, 2, 3, 4, 9, 5, 6, 7]\n"
     ]
    }
   ],
   "source": [
    "list=[1,2,3,4,5,6,7]\n",
    "list.insert(4,9)\n",
    "print(list)"
   ]
  },
  {
   "cell_type": "markdown",
   "id": "624b9dba",
   "metadata": {},
   "source": [
    "# Question7"
   ]
  },
  {
   "cell_type": "code",
   "execution_count": 2,
   "id": "72b3175a",
   "metadata": {},
   "outputs": [
    {
     "name": "stdout",
     "output_type": "stream",
     "text": [
      "{'name': 'John', 'age': 5, 'salary': 8000, 'location': 'New York'}\n"
     ]
    }
   ],
   "source": [
    "dict={'name':'John','age':5,'salary':8000,'city':'New York'}\n",
    "del dict['city']\n",
    "dict['location']=\"New York\"\n",
    "print(dict)"
   ]
  },
  {
   "cell_type": "markdown",
   "id": "f395ea67",
   "metadata": {},
   "source": [
    "# Question8"
   ]
  },
  {
   "cell_type": "code",
   "execution_count": 1,
   "id": "95f9544e",
   "metadata": {},
   "outputs": [
    {
     "name": "stdout",
     "output_type": "stream",
     "text": [
      "{'name': 'John', 'salary': 7500} {'name': 'Emma', 'salary': 8000} {'name': 'Brad', 'salary': 8500}\n"
     ]
    }
   ],
   "source": [
    "emp1={'name':'John','salary':7500}\n",
    "emp2={'name':'Emma','salary':8000}\n",
    "emp3={'name':'Brad','salary':500}\n",
    "emp3['salary']=8500\n",
    "print(emp1,emp2,emp3)"
   ]
  },
  {
   "cell_type": "markdown",
   "id": "9f459740",
   "metadata": {},
   "source": [
    "# Question9"
   ]
  },
  {
   "cell_type": "code",
   "execution_count": 3,
   "id": "8a0356db",
   "metadata": {},
   "outputs": [
    {
     "data": {
      "text/plain": [
       "(43, 54)"
      ]
     },
     "execution_count": 3,
     "metadata": {},
     "output_type": "execute_result"
    }
   ],
   "source": [
    "tuple1=(10,20,(43,54),56,68)\n",
    "tuple1[2]"
   ]
  },
  {
   "cell_type": "markdown",
   "id": "2488e86a",
   "metadata": {},
   "source": [
    "# Question10"
   ]
  },
  {
   "cell_type": "code",
   "execution_count": 4,
   "id": "4488a872",
   "metadata": {},
   "outputs": [
    {
     "data": {
      "text/plain": [
       "3"
      ]
     },
     "execution_count": 4,
     "metadata": {},
     "output_type": "execute_result"
    }
   ],
   "source": [
    "tuple1=(50,10,60,70,50,83,567,50,81)\n",
    "tuple1.count(50)"
   ]
  }
 ],
 "metadata": {
  "kernelspec": {
   "display_name": "Python 3 (ipykernel)",
   "language": "python",
   "name": "python3"
  },
  "language_info": {
   "codemirror_mode": {
    "name": "ipython",
    "version": 3
   },
   "file_extension": ".py",
   "mimetype": "text/x-python",
   "name": "python",
   "nbconvert_exporter": "python",
   "pygments_lexer": "ipython3",
   "version": "3.9.13"
  }
 },
 "nbformat": 4,
 "nbformat_minor": 5
}
